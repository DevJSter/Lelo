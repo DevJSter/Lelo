{
 "cells": [
  {
   "cell_type": "code",
   "execution_count": 1,
   "id": "e7240cbb",
   "metadata": {},
   "outputs": [
    {
     "name": "stdout",
     "output_type": "stream",
     "text": [
      "PLAY = NO\n"
     ]
    }
   ],
   "source": [
    "data = [\n",
    "    {\"index\": 0, \"outlook\": \"Sunny\", \"play\": \"Yes\"},\n",
    "    {\"index\": 1, \"outlook\": \"Rainy\", \"play\": \"No\"},\n",
    "    {\"index\": 2, \"outlook\": \"Overcast\", \"play\": \"Yes\"},\n",
    "    {\"index\": 3, \"outlook\": \"Sunny\", \"play\": \"No\"},\n",
    "    {\"index\": 4, \"outlook\": \"Rainy\", \"play\": \"No\"},\n",
    "    {\"index\": 5, \"outlook\": \"Sunny\", \"play\": \"Yes\"},\n",
    "    {\"index\": 6, \"outlook\": \"Overcast\", \"play\": \"Yes\"},\n",
    "    {\"index\": 7, \"outlook\": \"Rainy\", \"play\": \"Yes\"},\n",
    "    {\"index\": 8, \"outlook\": \"Sunny\", \"play\": \"No\"},\n",
    "    {\"index\": 9, \"outlook\": \"Sunny\", \"play\": \"Yes\"},\n",
    "    {\"index\": 10, \"outlook\": \"Rainy\", \"play\": \"Yes\"},\n",
    "    {\"index\": 11, \"outlook\": \"Overcast\", \"play\": \"Yes\"},\n",
    "    {\"index\": 12, \"outlook\": \"Sunny\", \"play\": \"No\"},\n",
    "    {\"index\": 13, \"outlook\": \"Overcast\", \"play\": \"No\"}\n",
    "]\n",
    "\n",
    "play_yes_count = len([item for item in data if item[\"play\"] == \"Yes\"])\n",
    "play_no_count = len(data) - play_yes_count\n",
    "\n",
    "outlook_sunny = len([item for item in data if item[\"outlook\"] == \"Sunny\"])\n",
    "sunny_yes = len([item for item in data if item[\"outlook\"] == \"Sunny\" and item[\"play\"] == \"Yes\"])\n",
    "sunny_no = outlook_sunny - sunny_yes\n",
    "\n",
    "outlook_rainy = len([item for item in data if item[\"outlook\"] == \"Rainy\"])\n",
    "rainy_yes = len([item for item in data if item[\"outlook\"] == \"Rainy\" and item[\"play\"] == \"Yes\"])\n",
    "rainy_no = outlook_rainy - rainy_yes\n",
    "\n",
    "outlook_overcast = len([item for item in data if item[\"outlook\"] == \"Overcast\"])\n",
    "overcast_yes = len([item for item in data if item[\"outlook\"] == \"Overcast\" and item[\"play\"] == \"Yes\"])\n",
    "overcast_no = outlook_overcast - overcast_yes\n",
    "\n",
    "c1 = play_yes_count / len(data)\n",
    "c2 = play_no_count / len(data)\n",
    "\n",
    "x1 = sunny_yes / play_yes_count\n",
    "x2 = sunny_no / play_no_count\n",
    "\n",
    "f1 = c1 * x1\n",
    "f2 = c2 * x2\n",
    "\n",
    "if f1 > f2:\n",
    "    print(\"PLAY = YES\")\n",
    "else:\n",
    "    print(\"PLAY = NO\")"
   ]
  },
  {
   "cell_type": "code",
   "execution_count": null,
   "id": "04d3cb04",
   "metadata": {},
   "outputs": [],
   "source": []
  }
 ],
 "metadata": {
  "kernelspec": {
   "display_name": "Python 3 (ipykernel)",
   "language": "python",
   "name": "python3"
  },
  "language_info": {
   "codemirror_mode": {
    "name": "ipython",
    "version": 3
   },
   "file_extension": ".py",
   "mimetype": "text/x-python",
   "name": "python",
   "nbconvert_exporter": "python",
   "pygments_lexer": "ipython3",
   "version": "3.11.4"
  }
 },
 "nbformat": 4,
 "nbformat_minor": 5
}
